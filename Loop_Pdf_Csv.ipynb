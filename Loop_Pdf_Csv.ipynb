{
 "cells": [
  {
   "cell_type": "code",
   "execution_count": 28,
   "metadata": {},
   "outputs": [],
   "source": [
    "import os,sys\n",
    "import tabula"
   ]
  },
  {
   "cell_type": "code",
   "execution_count": 25,
   "metadata": {},
   "outputs": [],
   "source": [
    "file_path='C:/Users/shruti.kerkar/Downloads/Mahyesh/273_KAGAL'\n",
    "csv_file_path='C:/Users/shruti.kerkar/Desktop/Kagal_csv'\n",
    "#file_array = [f for f in os.listdir(file_path) if f.endswith('.pdf')]\n",
    "#file_array = [os.path.join(file_path, name) for name in file_array]"
   ]
  },
  {
   "cell_type": "code",
   "execution_count": 20,
   "metadata": {},
   "outputs": [],
   "source": [
    "for filename in file_array:\n",
    "    #df=read_pdf(filename,pages=\"all\",multiple_tables=True, output_format=\"csv\")\n",
    "    \n",
    "    #df_csv=tabula.convert_into(filename,csv_file_path,pages=\"all\",multiple_tables=True)\n",
    "    #print(df_csv)\n",
    "    df = tabula.read_pdf(filename, encoding = 'utf-8', pages = 'all',nospreadsheet = True)\n",
    "    csv_file_path = filename.replace('pdf', 'csv')\n",
    "    df.to_csv(filename, index = False)"
   ]
  },
  {
   "cell_type": "code",
   "execution_count": 26,
   "metadata": {},
   "outputs": [],
   "source": [
    "base_command = 'java -jar tabula-0.9.2-jar-with-dependencies.jar -n -p all -f TSV -o {} {}'\n",
    " \n",
    "for filename in os.listdir(file_path):\n",
    "    pdf_path = os.path.join(file_path, filename)\n",
    "    csv_path = os.path.join(csv_file_path, filename.replace('.pdf', '.csv'))\n",
    "    command = base_command.format(csv_file_path, file_path)\n",
    "    os.system(command)"
   ]
  },
  {
   "cell_type": "code",
   "execution_count": 32,
   "metadata": {},
   "outputs": [],
   "source": [
    "pdf_folder = 'C:/Users/shruti.kerkar/Downloads/Mahyesh/273_KAGAL'\n",
    "paths = [pdf_folder + fn for fn in os.listdir(pdf_folder) if fn.endswith('.pdf')]\n",
    "\n",
    "for path in paths:\n",
    "    listdf = tabula.read_pdf(path, encoding = 'latin1', pages = 'all', nospreadsheet = True,multiple_tables=True)\n",
    "    path = path.replace('pdf', 'csv')\n",
    "    df_concat = pd.concat(listdf)\n",
    "    df_concat.to_csv(path, index = False)\n",
    "    print(listdf)"
   ]
  },
  {
   "cell_type": "code",
   "execution_count": null,
   "metadata": {},
   "outputs": [],
   "source": []
  }
 ],
 "metadata": {
  "kernelspec": {
   "display_name": "Python 3",
   "language": "python",
   "name": "python3"
  },
  "language_info": {
   "codemirror_mode": {
    "name": "ipython",
    "version": 3
   },
   "file_extension": ".py",
   "mimetype": "text/x-python",
   "name": "python",
   "nbconvert_exporter": "python",
   "pygments_lexer": "ipython3",
   "version": "3.7.0"
  }
 },
 "nbformat": 4,
 "nbformat_minor": 2
}
